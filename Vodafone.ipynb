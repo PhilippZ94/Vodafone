{
 "cells": [
  {
   "cell_type": "markdown",
   "metadata": {
    "colab_type": "text",
    "id": "55i1FmeiVkji"
   },
   "source": [
    "# Laboratory of Computational Physics\n",
    "## Final Project - Analysis of Vodafone Users' Fluxes\n",
    "#### Authors: \n",
    "- Simon Barton \n",
    "- Philipp Zehetner \n"
   ]
  },
  {
   "cell_type": "code",
   "execution_count": 1,
   "metadata": {
    "colab": {},
    "colab_type": "code",
    "id": "ME-6dkNTVkjj"
   },
   "outputs": [],
   "source": [
    "import numpy as np\n",
    "import pandas as pd\n",
    "import matplotlib.pyplot as plt\n",
    "import networkx as nx\n",
    "%matplotlib inline"
   ]
  },
  {
   "cell_type": "markdown",
   "metadata": {
    "colab_type": "text",
    "id": "Haabbt7rVkjl"
   },
   "source": [
    "### Reading the Data\n",
    "\n",
    "- __distinct_users_day.csv__: Contains number of users and their origin averaged of weekdays\n",
    "- __day_od.csv__: Contains the flow of users from one area to another, grouped by their origin and averaged over weekdays and months. \n",
    "- __codici_nazioni.csv__: Translates the codes used for different country into their Italian names\n",
    "- __codici_istat_provincia.csv__: Translates the codes used for different provinces into their Italian names\n",
    "- __codici_istat_comune.csv__: Translates the codes used for different communities into their Italian names\n",
    "- __Veneto.txt__: Contains distances (in km and minutes by car) between different Italian cities\n",
    "- __prov_Pops.csv__: Population of the different provinces. Data obtained from [WolframAlpha](https://www.wolframalpha.com/)"
   ]
  },
  {
   "cell_type": "code",
   "execution_count": 2,
   "metadata": {
    "colab": {},
    "colab_type": "code",
    "id": "tXHxgjugVkjm"
   },
   "outputs": [],
   "source": [
    "df_Veneto = pd.read_csv('Data/Veneto.txt',sep=';',decimal=',')\n",
    "df_Codici_Comune = pd.read_csv('Data/codici_istat_comune.csv',encoding='latin1')\n",
    "df_Codici_Provincia = pd.read_csv('Data/codici_istat_provincia.csv', encoding='latin1')\n",
    "df_Codici_Nazioni = pd.read_csv('Data/codici_nazioni.csv', encoding='utf-16')\n",
    "df_Day = pd.read_csv('Data/day_od.csv', encoding='utf-16')\n",
    "df_Distinct_Users = pd.read_csv('Data/distinct_users_day.csv', encoding='latin1')\n",
    "df_Prov_People = pd.read_csv('Data/provPops.csv', header=None, names=['PRO_CODE', 'POPULATION'])"
   ]
  },
  {
   "cell_type": "code",
   "execution_count": 3,
   "metadata": {
    "colab": {},
    "colab_type": "code",
    "id": "upiihpkDVkjo"
   },
   "outputs": [],
   "source": [
    "# Dictionaries often are better to use than data frames\n",
    "NationCode = dict(zip(df_Codici_Nazioni.COD_COUNTRY,df_Codici_Nazioni.COUNTRY_NAME_IT))\n",
    "NationCode_r = dict(zip(df_Codici_Nazioni.COUNTRY_NAME_IT, df_Codici_Nazioni.COD_COUNTRY))\n",
    "ProvinceCode = dict(zip(df_Codici_Provincia.COD_PRO, df_Codici_Provincia.PROVINCIA))\n",
    "ProvinceCode_r = dict(zip(df_Codici_Provincia.PROVINCIA, df_Codici_Provincia.COD_PRO))\n",
    "ProvincePop = dict(zip(df_Prov_People.PRO_CODE, df_Prov_People.POPULATION))\n",
    "ComuneCode = dict(zip(df_Codici_Comune.PRO_COM, df_Codici_Comune.COMUNE))"
   ]
  },
  {
   "cell_type": "markdown",
   "metadata": {
    "colab_type": "text",
    "id": "BeqPOT7-Vkjq"
   },
   "source": [
    "## 1. Country Ranking\n",
    "\n",
    "Ranking including the 20 countries with most Vodafone users visiting Padova"
   ]
  },
  {
   "cell_type": "code",
   "execution_count": 4,
   "metadata": {
    "colab": {},
    "colab_type": "code",
    "id": "Y8FvLmCsVkjr"
   },
   "outputs": [],
   "source": [
    "Foreigners = df_Distinct_Users[df_Distinct_Users['CUST_CLASS']=='foreigner']\n",
    "Foreigners = Foreigners[Foreigners['COD_COUNTRY']!=-999]\n",
    "Countries = list(df_Codici_Nazioni.COUNTRY_NAME_IT)\n",
    "CCodes = []\n",
    "Fluxes = []\n",
    "\n",
    "for country in Countries: \n",
    "    code = NationCode_r[country]\n",
    "    Flux = Foreigners[Foreigners['COD_COUNTRY']==code].VISITORS.sum()\n",
    "    if Flux != 0 : \n",
    "        CCodes.append(code)\n",
    "        Fluxes.append(Flux)\n",
    "        \n",
    "CCodes, Fluxes = zip(*sorted(zip(CCodes, Fluxes), key=lambda x: x[1])[-24:])\n",
    "\n",
    "# United States for some reason appear 5 times in that list with identical values. We remove 4. \n",
    "CCodes = CCodes[-24:-13] + CCodes[16:]\n",
    "Fluxes = Fluxes[-24:-13] + Fluxes[16:]"
   ]
  },
  {
   "cell_type": "code",
   "execution_count": 5,
   "metadata": {
    "colab": {
     "base_uri": "https://localhost:8080/",
     "height": 295
    },
    "colab_type": "code",
    "executionInfo": {
     "elapsed": 1133,
     "status": "ok",
     "timestamp": 1563525400255,
     "user": {
      "displayName": "Simon Barton",
      "photoUrl": "",
      "userId": "02567190512883722221"
     },
     "user_tz": -120
    },
    "id": "rAopk57OVkjt",
    "outputId": "cae91149-1819-4a7c-a3d5-7e6fec9b5736",
    "scrolled": false
   },
   "outputs": [
    {
     "data": {
      "image/png": "[encoded data removed]",
      "text/plain": [
       "<Figure size 576x576 with 1 Axes>"
      ]
     },
     "metadata": {
      "needs_background": "light"
     },
     "output_type": "display_data"
    }
   ],
   "source": [
    "fig, ax = plt.subplots(1,1, figsize=(8,8))\n",
    "\n",
    "\n",
    "Object = [NationCode[CCodes[i]] for i in range(len(CCodes))]\n",
    "y_pos = np.arange(len(Object))\n",
    "plt.barh(y_pos, Fluxes, color='#008C45')\n",
    "plt.yticks(y_pos, Object)\n",
    "plt.title(\"Foreigners by Country\")\n",
    "plt.xlabel(\"Number of Foreigners\")\n",
    "plt.show()"
   ]
  },
  {
   "cell_type": "markdown",
   "metadata": {
    "colab_type": "text",
    "id": "N07HSw_yVkjx"
   },
   "source": [
    "## 2. Province Ranking\n",
    "\n",
    "Ranking of Italian visitors (using Vodafone) weighted by their provinces population"
   ]
  },
  {
   "cell_type": "code",
   "execution_count": 6,
   "metadata": {
    "colab": {
     "base_uri": "https://localhost:8080/",
     "height": 234
    },
    "colab_type": "code",
    "executionInfo": {
     "elapsed": 817,
     "status": "error",
     "timestamp": 1563525403427,
     "user": {
      "displayName": "Simon Barton",
      "photoUrl": "",
      "userId": "02567190512883722221"
     },
     "user_tz": -120
    },
    "id": "bhihCIqDVkjx",
    "outputId": "c9557c0b-ac51-414c-f91f-308e08fc5052"
   },
   "outputs": [],
   "source": [
    "Visitors = df_Distinct_Users[df_Distinct_Users['CUST_CLASS']=='visitor']\n",
    "provinces = list(df_Codici_Provincia.PROVINCIA)\n",
    "PCodes = []\n",
    "Fluxes = []\n",
    "\n",
    "for province in provinces: \n",
    "    code = ProvinceCode_r[province]\n",
    "    Flux = Visitors[Visitors['COD_PRO']==code].VISITORS.sum()\n",
    "    if Flux != 0 : \n",
    "        PCodes.append(code)\n",
    "        Fluxes.append(Flux)\n",
    "        \n",
    "for i in range(len(Fluxes)): \n",
    "    Fluxes[i] = Fluxes[i]/ProvincePop[PCodes[i]]\n",
    "        \n",
    "PCodes, Fluxes = zip(*sorted(zip(PCodes, Fluxes), key=lambda x: x[1])[-20:])\n",
    "provinces = []\n",
    "for c in PCodes : \n",
    "    provinces.append(ProvinceCode[c])"
   ]
  },
  {
   "cell_type": "code",
   "execution_count": 7,
   "metadata": {
    "colab": {
     "base_uri": "https://localhost:8080/",
     "height": 295
    },
    "colab_type": "code",
    "executionInfo": {
     "elapsed": 2592,
     "status": "ok",
     "timestamp": 1563525423369,
     "user": {
      "displayName": "Simon Barton",
      "photoUrl": "",
      "userId": "02567190512883722221"
     },
     "user_tz": -120
    },
    "id": "gLPhDI9VVkj0",
    "outputId": "9b5092a7-2afd-4e7a-e113-bb1068c64c05"
   },
   "outputs": [
    {
     "name": "stderr",
     "output_type": "stream",
     "text": [
      "/home/philipp/anaconda3/envs/Vodafone/lib/python3.7/site-packages/ipykernel_launcher.py:11: UserWarning: Matplotlib is currently using module://ipykernel.pylab.backend_inline, which is a non-GUI backend, so cannot show the figure.\n",
      "  # This is added back by InteractiveShellApp.init_path()\n"
     ]
    },
    {
     "data": {
      "image/png": "[encoded data removed]",
      "text/plain": [
       "<Figure size 576x576 with 1 Axes>"
      ]
     },
     "metadata": {
      "needs_background": "light"
     },
     "output_type": "display_data"
    }
   ],
   "source": [
    "fig, ax = plt.subplots(1,1, figsize=(8,8))\n",
    "\n",
    "Object = [ProvinceCode[PCodes[i]] for i in range(len(PCodes))]\n",
    "y_pos = np.arange(len(Object))\n",
    "plt.barh(y_pos, Fluxes, color='#008C45')\n",
    "\n",
    "plt.yticks(y_pos, Object)\n",
    "plt.title(\"Normalized Visitors by Province\")\n",
    "plt.xlabel(\"Number of Visitors / Population of Province\")\n",
    "fig.tight_layout()\n",
    "fig.show()"
   ]
  },
  {
   "cell_type": "markdown",
   "metadata": {
    "colab_type": "text",
    "id": "0Ztr9UbvVkj5"
   },
   "source": [
    "## 3. Highway to Padova"
   ]
  },
  {
   "cell_type": "markdown",
   "metadata": {},
   "source": [
    "The Origin and Destination in our data is coded with three digits. We don't know which areas these codes represent, but have been told that _1xx_ corresponds to areas in the inner city, _2xx_ to areas a bit further outside and _300_ the wider Padova province area\n",
    "\n",
    "This can only be partially correct, as we observed, that there is no flow between areas with codes _2xx_ and _300_, but instead the flux between _300_ and _1xx_ is significantly larger than the flux between _1xx_ and _2xx_"
   ]
  },
  {
   "cell_type": "code",
   "execution_count": 8,
   "metadata": {
    "colab": {},
    "colab_type": "code",
    "id": "NOtBqjKqVkj6"
   },
   "outputs": [],
   "source": [
    "WeekDays = ['Lunedì', 'Martedì', 'Mercoledì', 'Giovedì', 'Venerdì']\n",
    "WeekEnd = ['Sabato', 'Domenica']"
   ]
  },
  {
   "cell_type": "code",
   "execution_count": 23,
   "metadata": {
    "colab": {
     "base_uri": "https://localhost:8080/",
     "height": 34
    },
    "colab_type": "code",
    "executionInfo": {
     "elapsed": 727,
     "status": "ok",
     "timestamp": 1563526699150,
     "user": {
      "displayName": "Simon Barton",
      "photoUrl": "",
      "userId": "02567190512883722221"
     },
     "user_tz": -120
    },
    "id": "TLOJsDNWVkj9",
    "outputId": "e3ac2305-7589-4a2d-a4ce-ed6e35be1de0",
    "scrolled": true
   },
   "outputs": [],
   "source": [
    "Commuters = df_Day[df_Day['CUST_CLASS']!='foreigner']\n",
    "Commuters = Commuters[Commuters['PRO_COM']!=-999]\n",
    "\n",
    "Commuters_WD = pd.concat([Commuters[Commuters['DOW']== d] for d in WeekDays])\n",
    "Commuters_WE = pd.concat([Commuters[Commuters['DOW']== d] for d in WeekEnd])\n",
    "\n",
    "Commuters21 = Commuters[Commuters['ORIGIN']/100 >=2]\n",
    "Commuters21 = Commuters21[Commuters21['ORIGIN']/100<3]\n",
    "Commuters21 = Commuters21[Commuters21['DESTINATION']/100<2]\n",
    "Commuters21_WD = pd.concat([Commuters21[Commuters21['DOW']== d] for d in WeekDays])\n",
    "Commuters21_WE = pd.concat([Commuters21[Commuters21['DOW']== d] for d in WeekEnd])\n",
    "\n",
    "Commuters12 = Commuters[Commuters['ORIGIN']/100<2]\n",
    "Commuters12 = Commuters12[Commuters12['DESTINATION']/100<3]\n",
    "Commuters12 = Commuters12[Commuters12['DESTINATION']/100>=2]\n",
    "Commuters12_WD = pd.concat([Commuters12[Commuters12['DOW']== d] for d in WeekDays])\n",
    "Commuters12_WE = pd.concat([Commuters12[Commuters12['DOW']== d] for d in WeekEnd])\n",
    "\n",
    "Commuters31 = Commuters[Commuters['ORIGIN']/100>=3]\n",
    "Commuters31 = Commuters31[Commuters31['DESTINATION']/100<2]\n",
    "Commuters31_WD = pd.concat([Commuters31[Commuters31['DOW']== d] for d in WeekDays])\n",
    "Commuters31_WE = pd.concat([Commuters31[Commuters31['DOW']== d] for d in WeekEnd])\n",
    "\n",
    "Commuters13 = Commuters[Commuters['ORIGIN']/100<2]\n",
    "Commuters13 = Commuters13[Commuters13['DESTINATION']/100>=3]\n",
    "Commuters13_WD = pd.concat([Commuters13[Commuters13['DOW']== d] for d in WeekDays])\n",
    "Commuters13_WE = pd.concat([Commuters13[Commuters13['DOW']== d] for d in WeekEnd])\n",
    "\n",
    "\n",
    "#These can be ignored, as now flow between these areas exists\n",
    "Commuters32 = Commuters[Commuters['ORIGIN']/100>=3]\n",
    "Commuters32 = Commuters32[Commuters32['DESTINATION']/100>=2]\n",
    "Commuters32 = Commuters32[Commuters32['DESTINATION']/100<3]\n",
    "Commuters32_WD = pd.concat([Commuters32[Commuters32['DOW']== d] for d in WeekDays])\n",
    "Commuters32_WE = pd.concat([Commuters32[Commuters32['DOW']== d] for d in WeekEnd])\n",
    "\n",
    "#These can be ignored, as now flow between these areas exists\n",
    "Commuters23 = Commuters[Commuters['ORIGIN']/100>=2]\n",
    "Commuters23 = Commuters23[Commuters23['ORIGIN']/100<3]\n",
    "Commuters23 = Commuters23[Commuters23['DESTINATION']/100>=3]\n",
    "Commuters23_WD = pd.concat([Commuters23[Commuters23['DOW']== d] for d in WeekDays])\n",
    "Commuters23_WE = pd.concat([Commuters23[Commuters23['DOW']== d] for d in WeekEnd])\n",
    "\n",
    "Sum_WD = Commuters_WD.groupby('PRO_COM')['FLOW'].agg(np.sum).reset_index(level=['PRO_COM'])\n",
    "Sum_WE = Commuters_WE.groupby('PRO_COM')['FLOW'].agg(np.sum).reset_index(level=['PRO_COM'])\n",
    "d_WD= dict(zip(Sum_WD['PRO_COM'],Sum_WD['FLOW']))\n",
    "d_WE = dict(zip(Sum_WE['PRO_COM'],Sum_WD['FLOW']))\n",
    "Sum_12_WD = Commuters12_WD.groupby('PRO_COM')['FLOW'].agg(np.sum).reset_index(level=['PRO_COM'])\n",
    "Sum_12_WE = Commuters12_WE.groupby('PRO_COM')['FLOW'].agg(np.sum).reset_index(level=['PRO_COM'])\n",
    "Sum_21_WD = Commuters21_WD.groupby('PRO_COM')['FLOW'].agg(np.sum).reset_index(level=['PRO_COM'])\n",
    "Sum_21_WE = Commuters21_WE.groupby('PRO_COM')['FLOW'].agg(np.sum).reset_index(level=['PRO_COM'])\n",
    "Sum_13_WD = Commuters13_WD.groupby('PRO_COM')['FLOW'].agg(np.sum).reset_index(level=['PRO_COM'])\n",
    "Sum_13_WE = Commuters13_WE.groupby('PRO_COM')['FLOW'].agg(np.sum).reset_index(level=['PRO_COM'])\n",
    "Sum_31_WD = Commuters31_WD.groupby('PRO_COM')['FLOW'].agg(np.sum).reset_index(level=['PRO_COM'])\n",
    "Sum_31_WE = Commuters31_WE.groupby('PRO_COM')['FLOW'].agg(np.sum).reset_index(level=['PRO_COM'])\n",
    "#These can be ignored, as now flow between these areas exists\n",
    "Sum_23_WD = Commuters23_WD.groupby('PRO_COM')['FLOW'].agg(np.sum).reset_index(level=['PRO_COM'])\n",
    "Sum_23_WE = Commuters23_WE.groupby('PRO_COM')['FLOW'].agg(np.sum).reset_index(level=['PRO_COM'])\n",
    "Sum_32_WD = Commuters32_WD.groupby('PRO_COM')['FLOW'].agg(np.sum).reset_index(level=['PRO_COM'])\n",
    "Sum_32_WE = Commuters32_WE.groupby('PRO_COM')['FLOW'].agg(np.sum).reset_index(level=['PRO_COM'])"
   ]
  },
  {
   "cell_type": "code",
   "execution_count": 10,
   "metadata": {},
   "outputs": [
    {
     "data": {
      "text/plain": [
       "{1272.0: 4488,\n",
       " 2016.0: 72,\n",
       " 3129.0: 32,\n",
       " 3131.0: 64,\n",
       " 6003.0: 260,\n",
       " 7003.0: 32,\n",
       " 10025.0: 2116,\n",
       " 12133.0: 36,\n",
       " 13075.0: 80,\n",
       " 14058.0: 68,\n",
       " 14066.0: 96,\n",
       " 15146.0: 44939,\n",
       " 15209.0: 64,\n",
       " 15220.0: 32,\n",
       " 17029.0: 436,\n",
       " 17067.0: 64,\n",
       " 17179.0: 84,\n",
       " 18182.0: 92,\n",
       " 19036.0: 124,\n",
       " 20030.0: 180,\n",
       " 20070.0: 252,\n",
       " 21008.0: 640,\n",
       " 21040.0: 32,\n",
       " 22006.0: 32,\n",
       " 22022.0: 428,\n",
       " 22117.0: 32,\n",
       " 22161.0: 360,\n",
       " 22205.0: 6075,\n",
       " 23004.0: 84,\n",
       " 23012.0: 148,\n",
       " 23015.0: 36,\n",
       " 23025.0: 140,\n",
       " 23027.0: 128,\n",
       " 23028.0: 963,\n",
       " 23044.0: 1695,\n",
       " 23050.0: 787,\n",
       " 23052.0: 96,\n",
       " 23058.0: 96,\n",
       " 23069.0: 2225,\n",
       " 23071.0: 32,\n",
       " 23073.0: 80,\n",
       " 23076.0: 32,\n",
       " 23082.0: 72,\n",
       " 23085.0: 32,\n",
       " 23091.0: 36813,\n",
       " 23095.0: 80,\n",
       " 23096.0: 316,\n",
       " 24004.0: 1002,\n",
       " 24006.0: 840,\n",
       " 24008.0: 812,\n",
       " 24009.0: 986,\n",
       " 24012.0: 11213,\n",
       " 24013.0: 1128,\n",
       " 24014.0: 72,\n",
       " 24015.0: 32,\n",
       " 24016.0: 894,\n",
       " 24018.0: 2544,\n",
       " 24021.0: 9440,\n",
       " 24028.0: 1584,\n",
       " 24036.0: 4291,\n",
       " 24038.0: 3732,\n",
       " 24046.0: 4931,\n",
       " 24048.0: 464,\n",
       " 24051.0: 1249,\n",
       " 24052.0: 2419,\n",
       " 24057.0: 212,\n",
       " 24060.0: 68,\n",
       " 24061.0: 3487,\n",
       " 24064.0: 1468,\n",
       " 24067.0: 1880,\n",
       " 24071.0: 308,\n",
       " 24074.0: 1989,\n",
       " 24078.0: 32,\n",
       " 24083.0: 96,\n",
       " 24086.0: 732,\n",
       " 24087.0: 280,\n",
       " 24097.0: 68,\n",
       " 24098.0: 32,\n",
       " 24100.0: 7421,\n",
       " 24104.0: 3680,\n",
       " 24105.0: 5728,\n",
       " 24107.0: 32,\n",
       " 24108.0: 7131,\n",
       " 24111.0: 238,\n",
       " 24116.0: 63068,\n",
       " 24118.0: 32,\n",
       " 24122.0: 2332,\n",
       " 25006.0: 5437,\n",
       " 25016.0: 603,\n",
       " 25021.0: 604,\n",
       " 26001.0: 376,\n",
       " 26002.0: 64,\n",
       " 26003.0: 64,\n",
       " 26006.0: 172,\n",
       " 26008.0: 1688,\n",
       " 26009.0: 828,\n",
       " 26010.0: 4699,\n",
       " 26012.0: 20050,\n",
       " 26013.0: 744,\n",
       " 26021.0: 2006,\n",
       " 26022.0: 36,\n",
       " 26025.0: 852,\n",
       " 26029.0: 136,\n",
       " 26031.0: 64,\n",
       " 26032.0: 32,\n",
       " 26038.0: 525,\n",
       " 26040.0: 80,\n",
       " 26043.0: 12961,\n",
       " 26046.0: 7882,\n",
       " 26051.0: 1721,\n",
       " 26055.0: 3533,\n",
       " 26056.0: 240,\n",
       " 26058.0: 64,\n",
       " 26059.0: 778,\n",
       " 26063.0: 1434,\n",
       " 26066.0: 7398,\n",
       " 26068.0: 695,\n",
       " 26069.0: 648,\n",
       " 26081.0: 626,\n",
       " 26082.0: 168,\n",
       " 26083.0: 32,\n",
       " 26086.0: 26379,\n",
       " 26087.0: 348,\n",
       " 26089.0: 5928,\n",
       " 26091.0: 1920,\n",
       " 26092.0: 978,\n",
       " 26095.0: 4341,\n",
       " 27002.0: 8254,\n",
       " 27003.0: 26792,\n",
       " 27004.0: 15688,\n",
       " 27005.0: 64,\n",
       " 27006.0: 5993,\n",
       " 27008.0: 19874,\n",
       " 27012.0: 20177,\n",
       " 27013.0: 332,\n",
       " 27014.0: 28794,\n",
       " 27017.0: 19941,\n",
       " 27019.0: 4751,\n",
       " 27020.0: 5126,\n",
       " 27021.0: 9111,\n",
       " 27023.0: 13841,\n",
       " 27024.0: 18461,\n",
       " 27026.0: 7489,\n",
       " 27027.0: 32,\n",
       " 27028.0: 33968,\n",
       " 27029.0: 490,\n",
       " 27031.0: 678,\n",
       " 27032.0: 6301,\n",
       " 27033.0: 8063,\n",
       " 27034.0: 32,\n",
       " 27035.0: 28641,\n",
       " 27036.0: 68,\n",
       " 27037.0: 6639,\n",
       " 27038.0: 12025,\n",
       " 27039.0: 31491,\n",
       " 27042.0: 125020,\n",
       " 27043.0: 39869,\n",
       " 27044.0: 132,\n",
       " 28001.0: 130191,\n",
       " 28002.0: 2639,\n",
       " 28003.0: 398083,\n",
       " 28004.0: 3301,\n",
       " 28006.0: 4805,\n",
       " 28007.0: 13488,\n",
       " 28008.0: 5129,\n",
       " 28011.0: 9375,\n",
       " 28013.0: 22222,\n",
       " 28014.0: 9543,\n",
       " 28015.0: 21453,\n",
       " 28016.0: 204718,\n",
       " 28017.0: 66863,\n",
       " 28018.0: 8107,\n",
       " 28019.0: 23086,\n",
       " 28020.0: 12030,\n",
       " 28021.0: 3207,\n",
       " 28023.0: 860,\n",
       " 28026.0: 18147,\n",
       " 28028.0: 43777,\n",
       " 28030.0: 33381,\n",
       " 28032.0: 15666,\n",
       " 28033.0: 11552,\n",
       " 28034.0: 17648,\n",
       " 28035.0: 8904,\n",
       " 28036.0: 11492,\n",
       " 28037.0: 20723,\n",
       " 28038.0: 2859,\n",
       " 28039.0: 2208,\n",
       " 28040.0: 8201,\n",
       " 28041.0: 1667,\n",
       " 28042.0: 318,\n",
       " 28043.0: 541,\n",
       " 28044.0: 49030,\n",
       " 28045.0: 48649,\n",
       " 28046.0: 2945,\n",
       " 28048.0: 48176,\n",
       " 28050.0: 3956,\n",
       " 28054.0: 56805,\n",
       " 28055.0: 37579,\n",
       " 28056.0: 2919,\n",
       " 28057.0: 36698,\n",
       " 28058.0: 247433,\n",
       " 28059.0: 8986,\n",
       " 28060.0: 8763123,\n",
       " 28061.0: 10261,\n",
       " 28063.0: 11273,\n",
       " 28064.0: 7430,\n",
       " 28065.0: 39572,\n",
       " 28066.0: 20252,\n",
       " 28068.0: 7411,\n",
       " 28069.0: 317951,\n",
       " 28070.0: 3010,\n",
       " 28071.0: 6869,\n",
       " 28072.0: 211049,\n",
       " 28073.0: 22798,\n",
       " 28074.0: 1711,\n",
       " 28075.0: 29236,\n",
       " 28076.0: 7274,\n",
       " 28077.0: 4689,\n",
       " 28078.0: 72,\n",
       " 28079.0: 4047,\n",
       " 28080.0: 400,\n",
       " 28082.0: 40062,\n",
       " 28083.0: 1848,\n",
       " 28085.0: 89018,\n",
       " 28086.0: 195448,\n",
       " 28087.0: 4345,\n",
       " 28088.0: 1924,\n",
       " 28089.0: 34740,\n",
       " 28090.0: 9770,\n",
       " 28091.0: 3877,\n",
       " 28092.0: 16905,\n",
       " 28093.0: 1380,\n",
       " 28094.0: 9673,\n",
       " 28095.0: 144,\n",
       " 28096.0: 9507,\n",
       " 28099.0: 193157,\n",
       " 28100.0: 143737,\n",
       " 28101.0: 8432,\n",
       " 28103.0: 87242,\n",
       " 28104.0: 10106,\n",
       " 28105.0: 510,\n",
       " 28106.0: 50875,\n",
       " 29001.0: 4715,\n",
       " 29003.0: 1249,\n",
       " 29004.0: 876,\n",
       " 29013.0: 32,\n",
       " 29015.0: 68,\n",
       " 29019.0: 32,\n",
       " 29029.0: 2914,\n",
       " 29035.0: 288,\n",
       " 29038.0: 32,\n",
       " 29039.0: 36,\n",
       " 29040.0: 1520,\n",
       " 29041.0: 44036,\n",
       " 29044.0: 1295,\n",
       " 29046.0: 40,\n",
       " 29048.0: 500,\n",
       " 29052.0: 432,\n",
       " 30129.0: 6354,\n",
       " 32006.0: 4227,\n",
       " 34023.0: 32,\n",
       " 34027.0: 432,\n",
       " 35033.0: 180,\n",
       " 36023.0: 320,\n",
       " 36046.0: 32,\n",
       " 37006.0: 11889,\n",
       " 37020.0: 260,\n",
       " 37032.0: 76,\n",
       " 38003.0: 80,\n",
       " 38008.0: 9887,\n",
       " 39014.0: 244,\n",
       " 42002.0: 212,\n",
       " 42034.0: 32,\n",
       " 44023.0: 64,\n",
       " 46017.0: 144,\n",
       " 48017.0: 2873,\n",
       " 51002.0: 44,\n",
       " 52032.0: 36,\n",
       " 54024.0: 408,\n",
       " 54039.0: 32,\n",
       " 58046.0: 32,\n",
       " 58047.0: 72,\n",
       " 58061.0: 68,\n",
       " 58091.0: 26694,\n",
       " 60038.0: 32,\n",
       " 61009.0: 32,\n",
       " 62057.0: 44,\n",
       " 63037.0: 324,\n",
       " 63049.0: 3552,\n",
       " 63084.0: 220,\n",
       " 64008.0: 32,\n",
       " 65116.0: 128,\n",
       " 66049.0: 1196,\n",
       " 66098.0: 188,\n",
       " 67041.0: 32,\n",
       " 68028.0: 88,\n",
       " 70078.0: 36,\n",
       " 71004.0: 32,\n",
       " 71028.0: 272,\n",
       " 71060.0: 80,\n",
       " 72006.0: 140,\n",
       " 72019.0: 112,\n",
       " 72035.0: 32,\n",
       " 72041.0: 72,\n",
       " 74001.0: 40,\n",
       " 74012.0: 392,\n",
       " 75035.0: 68,\n",
       " 75084.0: 32,\n",
       " 76045.0: 32,\n",
       " 78045.0: 80,\n",
       " 87015.0: 32,\n",
       " 90003.0: 108,\n",
       " 92009.0: 212,\n",
       " 92084.0: 68,\n",
       " 93013.0: 32,\n",
       " 93017.0: 32,\n",
       " 93021.0: 36,\n",
       " 93022.0: 120,\n",
       " 93025.0: 32,\n",
       " 93033.0: 1589,\n",
       " 93037.0: 32,\n",
       " 93041.0: 68,\n",
       " 95045.0: 32,\n",
       " 97042.0: 32,\n",
       " 99014.0: 80,\n",
       " 100005.0: 324,\n",
       " 108027.0: 72,\n",
       " 108028.0: 32,\n",
       " 108033.0: 172,\n",
       " 109006.0: 76,\n",
       " 110007.0: 104}"
      ]
     },
     "execution_count": 10,
     "metadata": {},
     "output_type": "execute_result"
    }
   ],
   "source": [
    "d = dict(zip(Sum_WD['PRO_COM'],Sum_WD['FLOW']))\n",
    "d"
   ]
  },
  {
   "cell_type": "code",
   "execution_count": 11,
   "metadata": {},
   "outputs": [
    {
     "data": {
      "image/png": "[encoded data removed]",
      "text/plain": [
       "<Figure size 576x576 with 1 Axes>"
      ]
     },
     "metadata": {
      "needs_background": "light"
     },
     "output_type": "display_data"
    }
   ],
   "source": [
    "fig, ax = plt.subplots(1,1, figsize=(8,8))\n",
    "Labels = [\"Workdays 1 \\u2192 2\", \"Workdays 2 \\u2192 1\", \"Weekends 1 \\u2192 2\", \"Weekends 2 \\u2192 1\",\n",
    "          \"Workdays 1 \\u2192 3\", \"Workdays 3 \\u2192 1\", \"Weekends 1 \\u2192 3\", \"Weekends 3 \\u2192 1\"]\n",
    "Heights = [Sum_12_WD['FLOW'].sum()/5, Sum_21_WD['FLOW'].sum()/5, Sum_12_WE['FLOW'].sum()/2, Sum_21_WE['FLOW'].sum()/2,\n",
    "           Sum_13_WD['FLOW'].sum()/5, Sum_31_WD['FLOW'].sum()/5, Sum_13_WE['FLOW'].sum()/2, Sum_31_WE['FLOW'].sum()/2]\n",
    "y_pos = np.arange(len(Labels))\n",
    "colors = ['#CD212A', '#CD212A', '#008C45', '#008C45', '#CD212A', '#CD212A', '#008C45', '#008C45']\n",
    "plt.barh(y_pos, Heights, color=colors)\n",
    "plt.yticks(y_pos, Labels)\n",
    "plt.title(\"Fluxes between different types of areas (normalized per day)\")\n",
    "plt.xlabel(\"Flux\")\n",
    "fig.tight_layout()\n",
    "plt.show()"
   ]
  },
  {
   "cell_type": "code",
   "execution_count": 12,
   "metadata": {
    "colab": {
     "base_uri": "https://localhost:8080/",
     "height": 34
    },
    "colab_type": "code",
    "executionInfo": {
     "elapsed": 638,
     "status": "ok",
     "timestamp": 1563526752239,
     "user": {
      "displayName": "Simon Barton",
      "photoUrl": "",
      "userId": "02567190512883722221"
     },
     "user_tz": -120
    },
    "id": "baURws8MdMIj",
    "outputId": "1113b230-93c2-4920-f002-b6f6e6681271"
   },
   "outputs": [
    {
     "name": "stdout",
     "output_type": "stream",
     "text": [
      "Workdays 1 → 2: 236558.0\n",
      "Workdays 2 → 1: 241513.6\n",
      "Weekends 1 → 2: 195503.5\n",
      "Weekends 2 → 1: 198942.5\n",
      "Workdays 1 → 3: 712765.6\n",
      "Workdays 3 → 1: 706055.8\n",
      "Weekends 1 → 3: 526326.5\n",
      "Weekends 3 → 1: 529026.5\n",
      "Workday/Weekend Weekends 1 ⟷ 3: 1.3444296392713722\n",
      "Workday/Weekend Weekends 1 ⟷ 2: 1.2119903195037756\n"
     ]
    }
   ],
   "source": [
    "print(\"Workdays 1 \\u2192 2:\", Sum_12_WD['FLOW'].sum()/5)\n",
    "print(\"Workdays 2 \\u2192 1:\", Sum_21_WD['FLOW'].sum()/5)\n",
    "print(\"Weekends 1 \\u2192 2:\", Sum_12_WE['FLOW'].sum()/2)\n",
    "print(\"Weekends 2 \\u2192 1:\", Sum_21_WE['FLOW'].sum()/2)\n",
    "print(\"Workdays 1 \\u2192 3:\", Sum_13_WD['FLOW'].sum()/5)\n",
    "print(\"Workdays 3 \\u2192 1:\", Sum_31_WD['FLOW'].sum()/5)\n",
    "print(\"Weekends 1 \\u2192 3:\", Sum_13_WE['FLOW'].sum()/2)\n",
    "print(\"Weekends 3 \\u2192 1:\", Sum_31_WE['FLOW'].sum()/2)\n",
    "print(\"Workday/Weekend Weekends 1 \\u27f7 3:\", 0.5*((Sum_13_WD['FLOW'].sum()/5) / (Sum_13_WE['FLOW'].sum()/2) + (Sum_31_WD['FLOW'].sum()/5) / (Sum_31_WE['FLOW'].sum()/2)))\n",
    "print(\"Workday/Weekend Weekends 1 \\u27f7 2:\", 0.5*((Sum_12_WD['FLOW'].sum()/5) / (Sum_12_WE['FLOW'].sum()/2) + (Sum_21_WD['FLOW'].sum()/5) / (Sum_21_WE['FLOW'].sum()/2)))"
   ]
  },
  {
   "cell_type": "markdown",
   "metadata": {},
   "source": [
    "From this plot, we note a couple of things: \n",
    "\n",
    "- Some kind of continuity equation holds for Vodafone around Padova and possibly for humans in general as the flux from _1xx_/_2xx_ to _300_ is roughly equivalent to the flux from _300_ to _1xx_/_2xx_\n",
    "- Weekends are less busy than Workdays\n",
    "- The relative difference between weekends and workdays is less pronounced when travveling between _1xx_ and _2xx_ (factor 1.21) as it is between _1xx_ and _300_ (factor 1.34)"
   ]
  },
  {
   "cell_type": "markdown",
   "metadata": {},
   "source": [
    "### Flux per Highway\n",
    "\n",
    "Around Padova we can define three major directions. \n",
    "- West on _Autostrada Serenissima_ to Verona\n",
    "- East on _Autostrada Serenissima_ to Venezia\n",
    "- South on _Autostrada Bologna-Padova_ to Bologna\n",
    "\n",
    "We use the [Google Directions API](https://developers.google.com/maps/documentation/directions/start) to download the driving instructions from all Communities to Padova as .json files (in a separate notebook) and parse the routes for keywords indicating if they are using any of the three highways or not. The instructions were queried without traffic information to keep them as general as possible and not make them avoid highways.\n",
    "\n",
    "![Padova](Padova_Map.png)"
   ]
  },
  {
   "cell_type": "code",
   "execution_count": 13,
   "metadata": {
    "colab": {},
    "colab_type": "code",
    "id": "zttmq504Yrof"
   },
   "outputs": [],
   "source": [
    "import glob, os\n",
    "import json\n",
    "\n",
    "routeFiles = glob.glob(os.path.join('Routes/*.json'))\n",
    "\n",
    "def getDest(filename):\n",
    "  return filename[filename.rfind('/')+1:-5]\n",
    "\n",
    "def hasStep(steps, q):\n",
    "  return q in [s[\"html_instructions\"] for s in steps]\n",
    "\n",
    "def hasTerm(steps, q):\n",
    "  return q in \"\".join([s[\"html_instructions\"] for s in steps])"
   ]
  },
  {
   "cell_type": "code",
   "execution_count": 37,
   "metadata": {},
   "outputs": [],
   "source": [
    "with open('namedict.json') as nd:\n",
    "  commFlow = json.load(nd)\n",
    "i=0\n",
    "west_cs, east_cs, south_cs, other_cs = [], [], [], []\n",
    "nw,ne,ns,no=0,0,0,0\n",
    "flow_we_west, flow_we_east, flow_we_south, flow_we_other = 0,0,0,0\n",
    "flow_wd_west, flow_wd_east, flow_wd_south, flow_wd_other = 0,0,0,0\n",
    "pw,pe,ps,po=0,0,0,0\n",
    "for fn in routeFiles[i:] : \n",
    "    with open(fn, 'r') as f: \n",
    "        basename = \"Italy+\"+fn[fn.rfind('/')+1:fn.rfind('.')]\n",
    "        directions = json.load(f)\n",
    "        route = directions['routes'][0]\n",
    "        leg = route['legs'][0]\n",
    "        steps = directions['routes'][0]['legs'][0]['steps']\n",
    "        \n",
    "        #print(i,getDest(fn))\n",
    "        west = hasTerm(steps,\"E70\") and hasStep(steps,\"Take exit <b>Padova Est</b> toward <b>Padova Est</b>\");\n",
    "        east = hasTerm(steps,\"E70\") and hasStep(steps,\"Take exit <b>Padova Est</b> toward <b>Padova Est</b>/<b>Padova Centro</b>\");\n",
    "        south = hasTerm(steps,\"A13\");\n",
    "        if west:\n",
    "            nw += 1\n",
    "            west_cs.append(ComuneCode[commFlow[basename]])\n",
    "            if commFlow[basename] in d_WD.keys() : flow_wd_west += d_WD[commFlow[basename]]\n",
    "            if commFlow[basename] in d_WE.keys() : flow_we_west += d_WE[commFlow[basename]]\n",
    "        elif east:\n",
    "            ne += 1\n",
    "            east_cs.append(ComuneCode[commFlow[basename]])\n",
    "            if commFlow[basename] in d_WD.keys() : flow_wd_east += d_WD[commFlow[basename]]\n",
    "            if commFlow[basename] in d_WE.keys() : flow_we_east += d_WE[commFlow[basename]]\n",
    "        elif south:\n",
    "            ns += 1\n",
    "            south_cs.append(ComuneCode[commFlow[basename]])\n",
    "            if commFlow[basename] in d_WD.keys() : flow_wd_south += d_WD[commFlow[basename]]\n",
    "            if commFlow[basename] in d_WE.keys() : flow_we_south += d_WE[commFlow[basename]]\n",
    "        else:\n",
    "            no += 1\n",
    "            other_cs.append(ComuneCode[commFlow[basename]])\n",
    "            if commFlow[basename] in d_WD.keys() : flow_wd_other += d_WD[commFlow[basename]]\n",
    "            if commFlow[basename] in d_WE.keys() : flow_we_other += d_WE[commFlow[basename]]\n",
    "        if (west and east) or (east and south) or (west and south):\n",
    "            #print(\"ALARM!\")\n",
    "            pass\n",
    "        #print(i,len(routeFiles))\n",
    "        i+=1\n",
    "flow_west = flow_wd_west + flow_we_west\n",
    "flow_east = flow_wd_east + flow_we_east\n",
    "flow_south = flow_wd_south + flow_we_south\n",
    "flow_other = flow_wd_other + flow_we_other"
   ]
  },
  {
   "cell_type": "code",
   "execution_count": 51,
   "metadata": {},
   "outputs": [
    {
     "name": "stdout",
     "output_type": "stream",
     "text": [
      "49690.5\n",
      "38699.2\n",
      "252894.0\n",
      "63471.6\n",
      "862172.5\n",
      "61857.4\n",
      "5350764.5\n",
      "695418.0\n"
     ]
    }
   ],
   "source": [
    "print(flow_we_west/2)\n",
    "print(flow_wd_west/5)\n",
    "print(flow_we_east/2)\n",
    "print(flow_wd_east/5)\n",
    "print(flow_we_south/2)\n",
    "print(flow_wd_south/5)\n",
    "print(flow_we_other/2)\n",
    "print(flow_wd_other/5)"
   ]
  },
  {
   "cell_type": "code",
   "execution_count": 35,
   "metadata": {},
   "outputs": [
    {
     "data": {
      "text/plain": [
       "['Abano Terme',\n",
       " 'Adria',\n",
       " 'Agna',\n",
       " 'Albignasego',\n",
       " 'Altivole',\n",
       " 'Aosta',\n",
       " 'Arre',\n",
       " 'Arzergrande',\n",
       " 'Asolo',\n",
       " 'Bagnoli di Sopra',\n",
       " 'Bassano del Grappa',\n",
       " 'Borgo Valsugana',\n",
       " 'Borgoricco',\n",
       " 'Borgosesia',\n",
       " 'Bovolenta',\n",
       " 'Brescia',\n",
       " 'Brugine',\n",
       " 'Buccinasco',\n",
       " 'Busto Arsizio',\n",
       " 'Cadoneghe',\n",
       " 'Caerano di San Marco',\n",
       " 'Campagna Lupia',\n",
       " 'Campo San Martino',\n",
       " 'Campodarsego',\n",
       " 'Campodoro',\n",
       " 'Campolongo Maggiore',\n",
       " 'Camponogara',\n",
       " 'Camposampiero',\n",
       " 'Candiana',\n",
       " 'Carmignano di Brenta',\n",
       " 'Casalserugo',\n",
       " 'Cassola',\n",
       " 'Castelfranco Veneto',\n",
       " 'Castello di Godego',\n",
       " 'Cavarzere',\n",
       " \"Cavenago d'Adda\",\n",
       " 'Cernusco sul Naviglio',\n",
       " 'Cervarese Santa Croce',\n",
       " 'Chioggia',\n",
       " 'Cittadella',\n",
       " 'Codevigo',\n",
       " 'Como',\n",
       " 'Conselve',\n",
       " 'Correzzola',\n",
       " 'Crocetta del Montello',\n",
       " 'Curtarolo',\n",
       " 'Feltre',\n",
       " \"Fiesso d'Artico\",\n",
       " 'Fontaniva',\n",
       " 'Fonte',\n",
       " 'Fossò',\n",
       " 'Galliera Veneta',\n",
       " 'Garbagnate Milanese',\n",
       " 'Gazzo',\n",
       " 'Grantorto',\n",
       " 'Lecco',\n",
       " 'Legnaro',\n",
       " 'Limena',\n",
       " 'Lissone',\n",
       " 'Loreggia',\n",
       " 'Marostica',\n",
       " 'Maserà di Padova',\n",
       " 'Massanzago',\n",
       " 'Mestrino',\n",
       " 'Milano',\n",
       " 'Montebelluna',\n",
       " 'Montegrotto Terme',\n",
       " 'Monza',\n",
       " 'Nanto',\n",
       " 'Noale',\n",
       " 'Novara',\n",
       " 'Noventa Padovana',\n",
       " 'Pederobba',\n",
       " 'Pettorazza Grimani',\n",
       " 'Pianiga',\n",
       " 'Piazzola sul Brenta',\n",
       " 'Piombino Dese',\n",
       " 'Piove di Sacco',\n",
       " 'Polverara',\n",
       " 'Ponte San Nicolò',\n",
       " 'Pontelongo',\n",
       " 'Porto Tolle',\n",
       " 'Porto Viro',\n",
       " 'Recetto',\n",
       " 'Resana',\n",
       " 'Riese Pio X',\n",
       " \"Romano d'Ezzelino\",\n",
       " 'Romentino',\n",
       " 'Rosolina',\n",
       " 'Rosà',\n",
       " 'Rovolon',\n",
       " 'Rubano',\n",
       " 'Saccolongo',\n",
       " 'San Giacomo Filippo',\n",
       " 'San Giorgio delle Pertiche',\n",
       " 'San Giorgio in Bosco',\n",
       " 'San Martino di Lupari',\n",
       " 'San Pietro in Gu',\n",
       " 'San Zenone degli Ezzelini',\n",
       " \"Sant'Angelo di Piove di Sacco\",\n",
       " 'Santa Giustina in Colle',\n",
       " 'Santa Maria di Sala',\n",
       " 'Saonara',\n",
       " 'Selvazzano Dentro',\n",
       " 'Sesto San Giovanni',\n",
       " \"Spino d'Adda\",\n",
       " 'Stra',\n",
       " 'Taglio di Po',\n",
       " 'Teolo',\n",
       " 'Terrassa Padovana',\n",
       " 'Tezze sul Brenta',\n",
       " 'Tirano',\n",
       " 'Tombolo',\n",
       " 'Torino',\n",
       " 'Torreglia',\n",
       " 'Trebaseleghe',\n",
       " 'Trezzano sul Naviglio',\n",
       " 'Valdobbiadene',\n",
       " 'Varese',\n",
       " 'Vedelago',\n",
       " 'Vigodarzere',\n",
       " 'Vigonovo',\n",
       " 'Vigonza',\n",
       " 'Villa del Conte',\n",
       " 'Villafranca Padovana',\n",
       " 'Villanova di Camposampiero',\n",
       " \"Vo'\"]"
      ]
     },
     "execution_count": 35,
     "metadata": {},
     "output_type": "execute_result"
    }
   ],
   "source": [
    "other_cs"
   ]
  },
  {
   "cell_type": "code",
   "execution_count": 53,
   "metadata": {},
   "outputs": [
    {
     "data": {
      "image/png": "[encoded data removed]",
      "text/plain": [
       "<Figure size 864x720 with 4 Axes>"
      ]
     },
     "metadata": {
      "needs_background": "light"
     },
     "output_type": "display_data"
    }
   ],
   "source": [
    "fig,ax = plt.subplots(2,2,figsize=(12, 10))\n",
    "ax[0][0].bar(range(4), [nw,ne,ns,no], tick_label=[\"West\",\"East\",\"South\",\"Other\"], color='black')\n",
    "ax[0][0].title.set_text('Number of Communities')\n",
    "\n",
    "ax[0][1].bar(range(4),[flow_west/7,flow_east/7,flow_south/7,flow_other/7], tick_label=[\"West\",\"East\",\"South\",\"Other\"],\n",
    "             color='black')\n",
    "ax[0][1].title.set_text('Average Flux per day')\n",
    "\n",
    "ax[1][0].bar(range(3), [flow_wd_west/5, flow_wd_east/5, flow_wd_south/5], tick_label=[\"West\",\"East\",\"South\"],\n",
    "             color='#CD212A')\n",
    "ax[1][0].title.set_text('Average Flux on Workdays')\n",
    "\n",
    "ax[1][1].bar(range(3), [flow_we_west/2, flow_we_east/2, flow_we_south/2], tick_label=[\"West\",\"East\",\"South\"],\n",
    "             color='#008C45')\n",
    "ax[1][1].title.set_text('Average Flux on Weekends')\n",
    "\n",
    "fig.tight_layout()"
   ]
  },
  {
   "cell_type": "markdown",
   "metadata": {},
   "source": [
    "By far the largest flux comes from communities very close to Padova, where no highway is needed and not recommended as fastest route by _Google Maps_. When only focusing on the highways a big difference between Weekends and Workdays can be noticed. \n",
    "\n",
    "On Workdays the highways from east and south are equally important with roughly 50% more flux than the highway from the west. On Weekends the average flux increases, but in very different manners: \n",
    "- In the west the increase is about 25% from around 40k to 50k\n",
    "- In the east the increase in about a factor of 6 from 63k to 253k\n",
    "- In the south the increase is more than a factor of 12 from 62k to 862k"
   ]
  },
  {
   "cell_type": "markdown",
   "metadata": {
    "colab_type": "text",
    "id": "IZqZxbdMVkkH"
   },
   "source": [
    "## Graphing the Areas to Order them\n",
    "\n",
    "We are not given the information which areas correspond to which codes, but we expect neighbouring areas to have larger fluxes. Here we try to model Padova using a graph in python with the fluxes as weights for the edges. "
   ]
  },
  {
   "cell_type": "code",
   "execution_count": null,
   "metadata": {
    "colab": {},
    "colab_type": "code",
    "id": "Ou0Gz0xiVkkI",
    "outputId": "46c277ad-cf8d-4c4e-995b-4f0c320f4b1c",
    "scrolled": true
   },
   "outputs": [],
   "source": [
    "u_origin = sorted(list(df_Day.ORIGIN.unique()))\n",
    "u_dest = sorted(list(df_Day.DESTINATION.unique()))\n",
    "u_dest = list(filter(lambda a: a!=-999, u_dest))\n",
    "\n",
    "if (u_origin == u_dest) : areas = u_origin\n",
    "else : print('Something went wrong')\n",
    "    \n",
    "Area_Flow = df_Day[df_Day['DESTINATION']!=-999].groupby(['ORIGIN','DESTINATION'])['FLOW'].sum()\n",
    "\n",
    "\n",
    "Area_Flow = Area_Flow.to_frame()\n",
    "Area_Flow = Area_Flow.reset_index(level=['ORIGIN','DESTINATION'])\n",
    "\n",
    "Graph = nx.from_pandas_edgelist(Area_Flow, 'ORIGIN', 'DESTINATION', edge_attr=True,\n",
    "                                create_using=nx.path_graph(100))\n",
    "nx.draw(Graph, with_labels=True, edge_color='grey', node_color='#008C45',\n",
    "        node_size=500, width=Area_Flow['FLOW']/1e5,\n",
    "        pos=nx.spring_layout(Graph, k=50,weight='FLOW', iterations=1000))"
   ]
  },
  {
   "cell_type": "code",
   "execution_count": null,
   "metadata": {
    "colab": {},
    "colab_type": "code",
    "id": "c9fG1lxRVkkM",
    "outputId": "7829c6aa-1a1f-4ba6-a1cf-07e7d11a123d"
   },
   "outputs": [],
   "source": [
    "nx.draw(Graph, with_labels=True, edge_color='grey', node_color='#008C45',\n",
    "        node_size=500, width=Area_Flow['FLOW']/1e5, pos=nx.spring_layout(Graph))"
   ]
  },
  {
   "cell_type": "markdown",
   "metadata": {
    "colab_type": "text",
    "id": "xXHYeLwPVkkQ"
   },
   "source": [
    "## 4. Correlation between Distance and Number of Visitors"
   ]
  },
  {
   "cell_type": "code",
   "execution_count": null,
   "metadata": {
    "colab": {},
    "colab_type": "code",
    "id": "kQAGc7_4VkkR",
    "outputId": "0c874500-a3d8-4fa6-ff39-0a82ee575552"
   },
   "outputs": [],
   "source": [
    "Ven = df_Veneto[df_Veneto['Destinazione']==28060]\n",
    "plt.scatter(Ven['Total_Minu'], Ven['Total_Mete']/1000, alpha=0.01)\n",
    "Distances = range(0, 1400, 50)"
   ]
  },
  {
   "cell_type": "code",
   "execution_count": null,
   "metadata": {
    "colab": {},
    "colab_type": "code",
    "id": "tYC8hmSTVkkV",
    "outputId": "0e23cc61-4ef1-4b4b-bca6-7952149d4c18"
   },
   "outputs": [],
   "source": [
    "sum(df_Day[df_Day[\"PRO_COM\"]==35033].FLOW)"
   ]
  },
  {
   "cell_type": "code",
   "execution_count": null,
   "metadata": {
    "colab": {},
    "colab_type": "code",
    "id": "etujGs3-Vkkb",
    "outputId": "e7bf2052-71bd-4504-bc38-e3df39d71cdb"
   },
   "outputs": [],
   "source": [
    "D_min = 0\n",
    "D_max = 1300\n",
    "D_step = 100\n",
    "Distances = np.arange(D_min, D_max, D_step)\n",
    "len(Distances)\n",
    "# Create a List with the comune whose distances fits with the Distances range. "
   ]
  },
  {
   "cell_type": "code",
   "execution_count": null,
   "metadata": {
    "colab": {},
    "colab_type": "code",
    "id": "cPDml2L3Vkki"
   },
   "outputs": [],
   "source": [
    "Com_Dist = []\n",
    "for i in Distances : \n",
    "    d_low = i * 1000\n",
    "    d_high = i * 1000 + D_step * 1000\n",
    "    Temp = Ven[Ven['Total_Mete'] >= d_low]\n",
    "    Temp = Temp[Temp['Total_Mete'] < d_high]\n",
    "    Coms = list(Temp['Origine'])\n",
    "    Com_Dist.append(Coms)\n",
    "    \n",
    "D_Visitors = []\n",
    "Neglect = []\n",
    "for c in Com_Dist : \n",
    "    v = 0\n",
    "    #print (len(c))\n",
    "    for cc in c :  \n",
    "    \n",
    "        if cc in ComuneCode.keys() : \n",
    "            v += sum(df_Day[df_Day[\"PRO_COM\"]==cc].FLOW)\n",
    "            #print(ComuneCode[int(cc)])\n",
    "        \n",
    "        else : \n",
    "            #print(c)\n",
    "            Neglect.append(cc)\n",
    "    D_Visitors.append(v)"
   ]
  },
  {
   "cell_type": "code",
   "execution_count": null,
   "metadata": {
    "colab": {},
    "colab_type": "code",
    "id": "jtIrelOIVkkp",
    "outputId": "33cd4370-39b6-4c3d-d738-c2c3052af74b",
    "scrolled": true
   },
   "outputs": [],
   "source": [
    "#import scipy.optimize as opt\n",
    "\n",
    "def func(x, a, b, c) : \n",
    "    return x*np.exp(-b*x)+c\n",
    "\n",
    "#optParams, pcov = opt.curve_fit(func, Distances, D_Visitors)\n",
    "\n",
    "n, bins, pataches = plt.hist(Distances, len(Distances), weights=D_Visitors, log=True)\n",
    "plt.title(\"Number of Visitors in Padova versus Distance in kilometers\")\n",
    "plt.xlabel(\"Distance in Kilometers\")\n",
    "plt.ylabel(\"Visitors between February and May 2018\")\n",
    "#plt.plot(func(Distances, *optParams), label='fit', color='red')\n",
    "plt.show()"
   ]
  }
 ],
 "metadata": {
  "colab": {
   "collapsed_sections": [
    "IZqZxbdMVkkH",
    "xXHYeLwPVkkQ"
   ],
   "name": "Analysis.ipynb",
   "provenance": [],
   "version": "0.3.2"
  },
  "kernelspec": {
   "display_name": "Python 3",
   "language": "python",
   "name": "python3"
  },
  "language_info": {
   "codemirror_mode": {
    "name": "ipython",
    "version": 3
   },
   "file_extension": ".py",
   "mimetype": "text/x-python",
   "name": "python",
   "nbconvert_exporter": "python",
   "pygments_lexer": "ipython3",
   "version": "3.7.3"
  }
 },
 "nbformat": 4,
 "nbformat_minor": 1
}
